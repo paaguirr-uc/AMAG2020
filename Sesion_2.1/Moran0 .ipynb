{
 "cells": [
  {
   "cell_type": "code",
   "execution_count": null,
   "metadata": {},
   "outputs": [],
   "source": [
    "%matplotlib inline\n",
    "\n",
    "import seaborn as sns\n",
    "import pandas as pd\n",
    "import geopandas as gpd\n",
    "import numpy as np\n",
    "import matplotlib.pyplot as plt\n",
    "import igraph as ig\n",
    "import networkx as nx\n",
    "import cdlib\n"
   ]
  },
  {
   "cell_type": "markdown",
   "metadata": {},
   "source": [
    "En esta ocasión construiremos los conceptos básicos de la autocorrelación espacial utilizando herramientas básicas. Específicamente construiremos la noción de vecinos, la matriz de pesos, lag espacial y el índice de Moran, mas adelante veremos la implementación en pysal"
   ]
  },
  {
   "cell_type": "code",
   "execution_count": null,
   "metadata": {},
   "outputs": [],
   "source": [
    "zona_diss=gpd.read_file('datosZonas_Stgo_C2017.gpkg')"
   ]
  },
  {
   "cell_type": "code",
   "execution_count": null,
   "metadata": {},
   "outputs": [],
   "source": [
    "zona_diss"
   ]
  },
  {
   "cell_type": "markdown",
   "metadata": {},
   "source": [
    "Usarémos la vecindad de reina, es decir que al menos un punto toque entre dos unidades espaciales. Notaremos que la noción de vecinos es un grafo y su matriz es el equivalente a una matriz de incidencia."
   ]
  },
  {
   "cell_type": "code",
   "execution_count": null,
   "metadata": {},
   "outputs": [],
   "source": [
    "%%time\n",
    "nbrs=[zona_diss.geometry.intersects(j) for j in zona_diss.geometry]\n",
    "nbrs"
   ]
  },
  {
   "cell_type": "code",
   "execution_count": null,
   "metadata": {},
   "outputs": [],
   "source": [
    "%%time\n",
    "list_of_nbrs=[list(filter(lambda i: nbrs[j][i]==True, range(len(nbrs[j])))) for j in range(len(nbrs))]\n",
    "list_of_nbrs"
   ]
  },
  {
   "cell_type": "markdown",
   "metadata": {},
   "source": [
    "El siguiente codigo construye el data frame desde el cual construiremos el grafo"
   ]
  },
  {
   "cell_type": "code",
   "execution_count": null,
   "metadata": {},
   "outputs": [],
   "source": [
    "%%time\n",
    "nbrs_graph_df=pd.DataFrame(columns=['self', 'other'])\n",
    "selfs=[]\n",
    "others=[]\n",
    "\n",
    "for i in range(len(list_of_nbrs)):\n",
    "    self=i\n",
    "    for j in list_of_nbrs[i]:\n",
    "        other=j\n",
    "        if self != other:\n",
    "            selfs.append(self)\n",
    "            others.append(other)\n",
    "\n",
    "    "
   ]
  },
  {
   "cell_type": "code",
   "execution_count": null,
   "metadata": {},
   "outputs": [],
   "source": [
    "nbrs_graph_df['self']=selfs\n",
    "nbrs_graph_df['other']=others"
   ]
  },
  {
   "cell_type": "code",
   "execution_count": null,
   "metadata": {},
   "outputs": [],
   "source": [
    "nbrs_graph_df"
   ]
  },
  {
   "cell_type": "markdown",
   "metadata": {},
   "source": [
    "Para el manejo de grafos usaremos las librerias networkx I graph, específicamente lo utilizaremos para visualizar la estructura de grafo y construir la matriz de incidencia (vecinos)"
   ]
  },
  {
   "cell_type": "code",
   "execution_count": null,
   "metadata": {},
   "outputs": [],
   "source": [
    "G=nx.Graph()\n",
    "for i in range(len(nbrs_graph_df)):\n",
    "    G.add_edge(nbrs_graph_df['self'][i], nbrs_graph_df['other'][i])"
   ]
  },
  {
   "cell_type": "code",
   "execution_count": null,
   "metadata": {},
   "outputs": [],
   "source": [
    "zona_diss['x']= zona_diss['geometry'].centroid.x\n",
    "zona_diss['y']= zona_diss['geometry'].centroid.y"
   ]
  },
  {
   "cell_type": "code",
   "execution_count": null,
   "metadata": {},
   "outputs": [],
   "source": [
    "pos=dict()\n",
    "for i in range(len(zona_diss)):\n",
    "    key=i\n",
    "    value=(zona_diss[i:i+1]['x'].values[0], zona_diss[i:i+1]['y'].values[0])\n",
    "    pos[key]=value"
   ]
  },
  {
   "cell_type": "code",
   "execution_count": null,
   "metadata": {},
   "outputs": [],
   "source": [
    "nx.set_node_attributes(G, pos, 'coord')"
   ]
  },
  {
   "cell_type": "code",
   "execution_count": null,
   "metadata": {},
   "outputs": [],
   "source": [
    "zona_diss"
   ]
  },
  {
   "cell_type": "code",
   "execution_count": null,
   "metadata": {},
   "outputs": [],
   "source": [
    "zona_diss.crs"
   ]
  },
  {
   "cell_type": "code",
   "execution_count": null,
   "metadata": {},
   "outputs": [],
   "source": [
    "fig=plt.figure(figsize=(15,25))\n",
    "\n",
    "ax=fig.add_subplot(1,1,1)\n",
    "nx.draw_networkx(G, pos, node_size=10, with_labels=False, ax=ax, width =1)\n",
    "zona_diss.boundary.plot(ax=ax)\n"
   ]
  },
  {
   "cell_type": "code",
   "execution_count": null,
   "metadata": {},
   "outputs": [],
   "source": [
    "Gi=cdlib.utils.convert_graph_formats(G, ig.Graph, directed=None)"
   ]
  },
  {
   "cell_type": "code",
   "execution_count": null,
   "metadata": {},
   "outputs": [],
   "source": [
    "nbrs_adj=Gi.get_adjacency_sparse()"
   ]
  },
  {
   "cell_type": "markdown",
   "metadata": {},
   "source": [
    "Una vez tenemos la matriz de adyacencia (asumiendo que no se construyó directamente una matriz de pesos o un grafo con peso), podemos construir los pesos a traves de la matriz de adyacencia rápidamente (usaremos peso por normalización de fila)"
   ]
  },
  {
   "cell_type": "code",
   "execution_count": null,
   "metadata": {},
   "outputs": [],
   "source": [
    "nbrs_adj.sum(axis=1)"
   ]
  },
  {
   "cell_type": "code",
   "execution_count": null,
   "metadata": {},
   "outputs": [],
   "source": [
    "weight_matrix=nbrs_adj/nbrs_adj.sum(axis=1)"
   ]
  },
  {
   "cell_type": "code",
   "execution_count": null,
   "metadata": {},
   "outputs": [],
   "source": [
    "mean=np.mean(zona_diss['INMIGRANTE'])\n",
    "std=np.std(zona_diss['INMIGRANTE'])\n",
    "normed=(zona_diss['INMIGRANTE']-mean)/std\n",
    "zona_diss['normed_inm']=normed"
   ]
  },
  {
   "cell_type": "markdown",
   "metadata": {},
   "source": [
    "Una vez se tiene la matriz de pesos, el lag espacial es una simple multiplicación entre la matriz de pesos y el vector del atributo de interés, es decir, para cada punto la suma ponderada de vecinos"
   ]
  },
  {
   "cell_type": "code",
   "execution_count": null,
   "metadata": {},
   "outputs": [],
   "source": [
    "splag=weight_matrix.dot(normed)\n",
    "splag"
   ]
  },
  {
   "cell_type": "code",
   "execution_count": null,
   "metadata": {},
   "outputs": [],
   "source": [
    "mask=weight_matrix[-2]!=0\n",
    "weight_matrix[-2]"
   ]
  },
  {
   "cell_type": "code",
   "execution_count": null,
   "metadata": {},
   "outputs": [],
   "source": [
    "zona_diss[[mask[0,i] for i in range(mask.shape[1])]]['normed_inm']"
   ]
  },
  {
   "cell_type": "code",
   "execution_count": null,
   "metadata": {},
   "outputs": [],
   "source": [
    "sum(zona_diss[[mask[0,i] for i in range(mask.shape[1])]]['normed_inm'])*0.14285714"
   ]
  },
  {
   "cell_type": "code",
   "execution_count": null,
   "metadata": {},
   "outputs": [],
   "source": [
    "zona_diss['splag']=[splag[0,i] for i in range(splag.shape[1])]"
   ]
  },
  {
   "cell_type": "markdown",
   "metadata": {},
   "source": [
    "El Scatterplot de Moran permite visualizar la relación entre el lag espacial y el atributo."
   ]
  },
  {
   "cell_type": "code",
   "execution_count": null,
   "metadata": {},
   "outputs": [],
   "source": [
    "f, ax = plt.subplots(1, figsize=(9, 9))\n",
    "\n",
    "plt.plot(zona_diss['normed_inm'], zona_diss['splag'], '.', color='firebrick')\n",
    "\n",
    " # dashed vert at mean of the last year's PCI\n",
    "plt.vlines(zona_diss['normed_inm'].mean(), zona_diss['splag'].min(), zona_diss['splag'].max(), linestyle='--')\n",
    " # dashed horizontal at mean of lagged PCI\n",
    "plt.hlines(zona_diss['splag'].mean(), zona_diss['normed_inm'].min(), zona_diss['normed_inm'].max(), linestyle='--')\n",
    "\n",
    "# red line of best fit using global I as slope\n",
    "#plt.plot(HR90, a + b*HR90, 'r')\n",
    "plt.title('Moran Scatterplot Fruna')\n",
    "plt.ylabel('Spatial Lag of INMIGRANTE')\n",
    "plt.xlabel('INMIGRANTE')\n",
    "plt.show()"
   ]
  },
  {
   "cell_type": "markdown",
   "metadata": {},
   "source": [
    "El Scatterplot de Moran ademas contiene la I global de moran que caracteriza la autocorrelación espacial, esta corresponde a la pendiente del modelo lineal entre el atributo y el lag"
   ]
  },
  {
   "cell_type": "code",
   "execution_count": null,
   "metadata": {},
   "outputs": [],
   "source": [
    "from sklearn.linear_model import LinearRegression as lr"
   ]
  },
  {
   "cell_type": "code",
   "execution_count": null,
   "metadata": {},
   "outputs": [],
   "source": [
    "reg=lr()"
   ]
  },
  {
   "cell_type": "code",
   "execution_count": null,
   "metadata": {},
   "outputs": [],
   "source": [
    "reg.fit(zona_diss['normed_inm'].values.reshape(-1, 1), zona_diss['splag'].values.reshape(-1, 1))"
   ]
  },
  {
   "cell_type": "code",
   "execution_count": null,
   "metadata": {},
   "outputs": [],
   "source": [
    "reg.coef_"
   ]
  },
  {
   "cell_type": "code",
   "execution_count": null,
   "metadata": {},
   "outputs": [],
   "source": [
    "reg.intercept_"
   ]
  },
  {
   "cell_type": "code",
   "execution_count": null,
   "metadata": {},
   "outputs": [],
   "source": [
    "f, ax = plt.subplots(1, figsize=(9, 9))\n",
    "\n",
    "plt.plot(zona_diss['normed_inm'], zona_diss['splag'], '.', color='firebrick')\n",
    "\n",
    " # dashed vert at mean of the last year's PCI\n",
    "plt.vlines(zona_diss['normed_inm'].mean(), zona_diss['splag'].min(), zona_diss['splag'].max(), linestyle='--')\n",
    " # dashed horizontal at mean of lagged PCI\n",
    "plt.hlines(zona_diss['splag'].mean(), zona_diss['normed_inm'].min(), zona_diss['normed_inm'].max(), linestyle='--')\n",
    "plt.plot([-1,0,1,2,3,4,5,6, 7, 8], reg.predict(np.array([-1,0,1,2,3,4,5,6, 7, 8]).reshape(-1, 1)))\n",
    "# red line of best fit using global I as slope\n",
    "#plt.plot(HR90, a + b*HR90, 'r')\n",
    "plt.title('Moran Scatterplot')\n",
    "plt.ylabel('Spatial Lag of INMIGRANTE')\n",
    "plt.xlabel('INMIGRANTE')\n",
    "plt.show()"
   ]
  },
  {
   "cell_type": "code",
   "execution_count": null,
   "metadata": {},
   "outputs": [],
   "source": []
  },
  {
   "cell_type": "code",
   "execution_count": null,
   "metadata": {},
   "outputs": [],
   "source": []
  }
 ],
 "metadata": {
  "kernelspec": {
   "display_name": "Python 3",
   "language": "python",
   "name": "python3"
  },
  "language_info": {
   "codemirror_mode": {
    "name": "ipython",
    "version": 3
   },
   "file_extension": ".py",
   "mimetype": "text/x-python",
   "name": "python",
   "nbconvert_exporter": "python",
   "pygments_lexer": "ipython3",
   "version": "3.7.6"
  }
 },
 "nbformat": 4,
 "nbformat_minor": 4
}
