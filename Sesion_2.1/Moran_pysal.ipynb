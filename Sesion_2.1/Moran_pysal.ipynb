{
 "cells": [
  {
   "cell_type": "code",
   "execution_count": null,
   "metadata": {},
   "outputs": [],
   "source": [
    "%matplotlib inline\n",
    "\n",
    "import seaborn as sns\n",
    "import pandas as pd\n",
    "import pysal as ps\n",
    "from pysal.lib import weights\n",
    "from pysal.explore import esda\n",
    "import geopandas as gpd\n",
    "import numpy as np\n",
    "import matplotlib.pyplot as plt\n"
   ]
  },
  {
   "cell_type": "code",
   "execution_count": null,
   "metadata": {},
   "outputs": [],
   "source": [
    "zona_diss=gpd.read_file('datosZonas_Stgo_C2017.gpkg')"
   ]
  },
  {
   "cell_type": "code",
   "execution_count": null,
   "metadata": {},
   "outputs": [],
   "source": [
    "f, ax = plt.subplots(1, figsize=(12,12))\n",
    "\n",
    "zona_diss.plot(ax=ax, column='INMIGRANTE',cmap='jet', linewidth=0.4)\n",
    "zona_diss.boundary.plot(ax=ax, color='black',linewidth=0.4,label='Zonas')"
   ]
  },
  {
   "cell_type": "code",
   "execution_count": null,
   "metadata": {},
   "outputs": [],
   "source": [
    "print(zona_diss.shape,zona_diss.head())"
   ]
  },
  {
   "cell_type": "code",
   "execution_count": null,
   "metadata": {},
   "outputs": [],
   "source": [
    "w_queen = weights.Queen.from_dataframe(zona_diss,idVariable='NZONA')\n",
    "w_rook = weights.Rook.from_dataframe(zona_diss,idVariable='NZONA')\n",
    "w_knn = weights.KNN.from_dataframe(zona_diss,k=3,ids='NZONA')\n",
    "w_dist_1km = weights.DistanceBand.from_dataframe(zona_diss, 1000)"
   ]
  },
  {
   "cell_type": "code",
   "execution_count": null,
   "metadata": {},
   "outputs": [],
   "source": [
    "f, ax= plt.subplots(1,sharey=True)\n",
    "f.set_size_inches(12,6)\n",
    "\n",
    "W={'Queen':w_queen,'Rook':w_rook,'KNN':w_knn,'Dist':w_dist_1km}\n",
    "for kw in W.keys():\n",
    "    w=W[kw]\n",
    "    print(kw,'==> Cardinalities, neighbors, weights:',w.cardinalities[100],w.neighbors[100],w.weights[100])\n",
    "    card=pd.Series(w.cardinalities)\n",
    "    ax.hist(card, bins=15,histtype='step',label=kw)\n",
    "    \n",
    "ax.legend()"
   ]
  },
  {
   "cell_type": "code",
   "execution_count": null,
   "metadata": {},
   "outputs": [],
   "source": [
    "f,axes = plt.subplots(2,2,sharey=True)\n",
    "f.set_size_inches(14,14)\n",
    "axs=[axes[0][0],axes[0][1],axes[1][0],axes[1][1]]\n",
    "\n",
    "focus = zona_diss.loc[[100], ['geometry']]\n",
    "\n",
    "for ax in axs:\n",
    "    zona_diss.plot(ax=ax, facecolor='gray', linewidth=0.1)\n",
    "    focus.plot(facecolor='red', alpha=1, linewidth=0, ax=ax)\n",
    "    ax.set_xlim(350000,354000)\n",
    "    ax.set_ylim(6283000,6286000)\n",
    "    \n",
    "for kw,ax in zip(W.keys(),axs):\n",
    "    w=W[kw]\n",
    "    ax.set_title(\"Vecindad %s de Zona 100\"%kw)\n",
    "    neis= zona_diss.loc[w[100], :]\n",
    "    neis.plot(ax=ax, facecolor='lime', linewidth=0)\n",
    "    buf = focus.centroid.buffer(1000)\n",
    "    buf.plot(edgecolor='red', facecolor='none', ax=ax)\n",
    "    zona_diss.centroid.plot(ax=ax, color='k',markersize=2)\n",
    "    "
   ]
  },
  {
   "cell_type": "code",
   "execution_count": null,
   "metadata": {},
   "outputs": [],
   "source": [
    "W={'Queen':w_queen,'Rook':w_rook,'KNN':w_knn,'Dist':w_dist_1km}\n",
    "\n",
    "field='HOMBRES'\n",
    "for kw,ax in zip(W.keys(),axs):\n",
    "    # Row-standardize the queen matrix\n",
    "    w=W[kw]\n",
    "    w.transform = 'R'\n",
    "    mean=np.mean(zona_diss[field])\n",
    "    std=np.std(zona_diss[field])\n",
    "    normed=(zona_diss[field]-mean)/std\n",
    "    zona_diss['%s_norm'%field]=normed\n",
    "    # Compute spatial lag of `imd_score`\n",
    "    w_lag = pd.Series(weights.lag_spatial(w, normed),index=normed.index)\n",
    "    zona_diss['%s_%s'%(kw,field)] = w_lag\n",
    "   \n",
    "print(zona_diss.head())\n"
   ]
  },
  {
   "cell_type": "code",
   "execution_count": null,
   "metadata": {},
   "outputs": [],
   "source": [
    "f,axes = plt.subplots(2,2,sharey=True)\n",
    "f.set_size_inches(14,14)\n",
    "axs=[axes[0][0],axes[0][1],axes[1][0],axes[1][1]]\n",
    "\n",
    "for kw,ax in zip(W.keys(),axs):\n",
    "    w=W[kw]\n",
    "    x=zona_diss['%s_norm'%field]\n",
    "    y=zona_diss['%s_%s'%(kw,field)]\n",
    "    m,b= np.polyfit(x, y, 1)\n",
    "    ax.plot(x,y,'.')\n",
    "    ax.plot(x,m*x+b,ls='--')\n",
    "    ax.set_xlabel(field)\n",
    "    ax.set_ylabel('Spatial Lag - %s' %kw)\n",
    "    ax.set_xlim(-1,3)\n",
    "    ax.set_ylim(-1,3)\n",
    "    ax.set_title(kw)\n",
    "    ax.axhline(y=0,ls='--')\n",
    "    ax.axvline(x=0,ls='--')\n",
    "\n",
    "    mi = esda.Moran(x, w)\n",
    "    ax.text(1,-0.5,'I Moran:%.2f, p_sim:%.4f'%(mi.I,mi.p_sim))\n"
   ]
  },
  {
   "cell_type": "code",
   "execution_count": null,
   "metadata": {},
   "outputs": [],
   "source": [
    "import matplotlib.patches as mpatches\n",
    "w=W['Queen']\n",
    "x=zona_diss['%s_norm'%field]\n",
    "lisa = esda.Moran_Local(x, w)\n",
    "print(lisa.q)\n",
    "zona_diss['quadrant'] = lisa.q\n",
    "zona_diss['significant'] = lisa.p_sim < 0.05\n",
    "\n",
    "quads={1:'HH',2:'LH',3:'LL',4:'HL'}\n",
    "\n",
    "palette = {'LL': 'blue','HH':'red','LH':'#83cef4','HL':'#e59696'}\n",
    "               \n",
    "zona_diss['quad_class'] = [quads[x] for x in zona_diss['quadrant']]\n",
    "\n",
    "f, ax = plt.subplots(1, figsize=(9, 9))\n",
    "\n",
    "sig=zona_diss[zona_diss['significant']]\n",
    "zona_diss.plot(color='gray',ax=ax)\n",
    "\n",
    "handles=[]\n",
    "for ctype, data in sig.groupby('quad_class'):\n",
    "    \n",
    "    # Define the color for each group using the dictionary\n",
    "    color = palette[ctype]\n",
    "    \n",
    "    # Plot each group using the color defined above\n",
    "    hand=data.plot(color=color,ax=ax,label=ctype)\n",
    "    handles.append(mpatches.Patch(color=color, label=ctype))\n",
    "\n",
    "plt.legend(handles=handles,loc='best')\n",
    "ax.set_axis_off()\n",
    "f.suptitle('LISA para %s'%field, size=12)\n",
    "\n",
    "\n"
   ]
  },
  {
   "cell_type": "code",
   "execution_count": null,
   "metadata": {},
   "outputs": [],
   "source": []
  },
  {
   "cell_type": "code",
   "execution_count": null,
   "metadata": {},
   "outputs": [],
   "source": []
  }
 ],
 "metadata": {
  "kernelspec": {
   "display_name": "Python 3",
   "language": "python",
   "name": "python3"
  },
  "language_info": {
   "codemirror_mode": {
    "name": "ipython",
    "version": 3
   },
   "file_extension": ".py",
   "mimetype": "text/x-python",
   "name": "python",
   "nbconvert_exporter": "python",
   "pygments_lexer": "ipython3",
   "version": "3.7.6"
  }
 },
 "nbformat": 4,
 "nbformat_minor": 2
}
