{
 "cells": [
  {
   "cell_type": "code",
   "execution_count": null,
   "metadata": {},
   "outputs": [],
   "source": [
    "import pandas as pd\n",
    "import geopandas as gpd\n",
    "import numpy as np"
   ]
  },
  {
   "cell_type": "markdown",
   "metadata": {},
   "source": [
    "La data corresponde a la serie por condado de covid en el estado de Carolina del Norte, el objetivo es generar una visualización interactiva donde la serie de tiempo de casos nuevos interactue con el mapa de los condados"
   ]
  },
  {
   "cell_type": "code",
   "execution_count": null,
   "metadata": {},
   "outputs": [],
   "source": [
    "data= pd.read_csv('datanc.csv')\n",
    "data"
   ]
  },
  {
   "cell_type": "markdown",
   "metadata": {},
   "source": [
    "Al trabajar con series de tiempo, es importante mantener el orden en el que se presentan los datos es determinante, se recomienda usar los tipos de datos proveidos por pandas"
   ]
  },
  {
   "cell_type": "code",
   "execution_count": null,
   "metadata": {},
   "outputs": [],
   "source": [
    "data['Date']=pd.to_datetime(data['Date']).dt.date"
   ]
  },
  {
   "cell_type": "code",
   "execution_count": null,
   "metadata": {},
   "outputs": [],
   "source": []
  },
  {
   "cell_type": "code",
   "execution_count": null,
   "metadata": {},
   "outputs": [],
   "source": [
    "new_cases=data.pivot('County', columns= 'Date',values='New cases' )\n",
    "new_cases=new_cases.fillna(0)\n",
    "new_cases=new_cases.rename(columns=dict(zip(new_cases.columns, [i.strftime('%Y-%m-%d') for i in new_cases.columns])))\n",
    "new_cases"
   ]
  },
  {
   "cell_type": "code",
   "execution_count": null,
   "metadata": {},
   "outputs": [],
   "source": [
    "new_cases_t=data.pivot('Date', columns= 'County',values='New cases')\n",
    "new_cases_t=new_cases_t.fillna(0)\n",
    "new_cases_t.head(5)"
   ]
  },
  {
   "cell_type": "code",
   "execution_count": null,
   "metadata": {},
   "outputs": [],
   "source": [
    "new_cases_t.index"
   ]
  },
  {
   "cell_type": "markdown",
   "metadata": {},
   "source": [
    "Para la construcción de joins como siempre, es relevante tomar en cuenta cualquier posible asimetría en los registros entre ambas tablas"
   ]
  },
  {
   "cell_type": "code",
   "execution_count": null,
   "metadata": {},
   "outputs": [],
   "source": [
    "ncshp=gpd.read_file('counties.shp')\n",
    "ncshp['CO_NAME']=ncshp.CO_NAME.str.lower().str.capitalize()\n",
    "counties= ncshp[['CO_NAME', 'geometry']]"
   ]
  },
  {
   "cell_type": "code",
   "execution_count": null,
   "metadata": {},
   "outputs": [],
   "source": []
  },
  {
   "cell_type": "code",
   "execution_count": null,
   "metadata": {},
   "outputs": [],
   "source": [
    "ncshp"
   ]
  },
  {
   "cell_type": "code",
   "execution_count": null,
   "metadata": {},
   "outputs": [],
   "source": [
    "new_cases"
   ]
  },
  {
   "cell_type": "code",
   "execution_count": null,
   "metadata": {},
   "outputs": [],
   "source": [
    "new_cases[~new_cases.index.isin(counties.CO_NAME.tolist())]"
   ]
  },
  {
   "cell_type": "code",
   "execution_count": null,
   "metadata": {},
   "outputs": [],
   "source": [
    "counties['CO_NAME'].iloc[47]='McDowell'\n",
    "counties['CO_NAME'].iloc[92]='New Hanover'"
   ]
  },
  {
   "cell_type": "code",
   "execution_count": null,
   "metadata": {},
   "outputs": [],
   "source": [
    "new_cases_shp=gpd.GeoDataFrame(new_cases.join(counties.set_index('CO_NAME')), crs= ncshp.crs, geometry='geometry')\n",
    "new_cases_shp.plot()"
   ]
  },
  {
   "cell_type": "code",
   "execution_count": null,
   "metadata": {},
   "outputs": [],
   "source": [
    "new_cases_shp.crs"
   ]
  },
  {
   "cell_type": "code",
   "execution_count": null,
   "metadata": {},
   "outputs": [],
   "source": [
    "import plotly.express as px\n",
    "import plotly.graph_objects as go\n",
    "import dash\n",
    "import dash_core_components as dcc\n",
    "import dash_html_components as html\n",
    "import json\n",
    "from dash.dependencies import Input, Output"
   ]
  },
  {
   "cell_type": "code",
   "execution_count": null,
   "metadata": {},
   "outputs": [],
   "source": [
    "counties"
   ]
  },
  {
   "cell_type": "markdown",
   "metadata": {},
   "source": [
    "Ejemplos de visualizaciones en dash en https://dash-gallery.plotly.host/Portal/ "
   ]
  },
  {
   "cell_type": "markdown",
   "metadata": {},
   "source": [
    "Las geometrías deben ser en algunos casos presentadas en el formato geojson para las funciones de plotly y de dash"
   ]
  },
  {
   "cell_type": "code",
   "execution_count": null,
   "metadata": {},
   "outputs": [],
   "source": [
    "counties.set_index('CO_NAME')\n",
    "counties=json.loads(counties.set_index('CO_NAME').to_crs(4326).to_json())"
   ]
  },
  {
   "cell_type": "code",
   "execution_count": null,
   "metadata": {},
   "outputs": [],
   "source": [
    "counties"
   ]
  },
  {
   "cell_type": "code",
   "execution_count": null,
   "metadata": {},
   "outputs": [],
   "source": [
    "new_cases_shp.columns"
   ]
  },
  {
   "cell_type": "code",
   "execution_count": null,
   "metadata": {},
   "outputs": [],
   "source": [
    "new_cases.columns"
   ]
  },
  {
   "cell_type": "markdown",
   "metadata": {},
   "source": [
    "La función choropleth_mapbox permite generar la base de mapas con algunos componentes de interacción, las geometrías son inferidas desde el geojson."
   ]
  },
  {
   "cell_type": "code",
   "execution_count": null,
   "metadata": {},
   "outputs": [],
   "source": [
    "ncmap = px.choropleth_mapbox(new_cases.reset_index(), geojson=counties, locations= 'County', \n",
    "                             color='2020-09-18',\n",
    "                           color_continuous_scale=\"Viridis\",\n",
    "                           range_color=(0,max(new_cases_shp['2020-09-18'])),\n",
    "                           mapbox_style=\"carto-positron\",\n",
    "                           center={'lon':-80.793457,'lat':35.782169},\n",
    "                           zoom=5.5,\n",
    "                           labels={'2020-09-18':'New cases'}\n",
    "                          )\n",
    "ncmap.update_layout(margin={\"r\":0,\"t\":0,\"l\":0,\"b\":0})\n",
    "\n",
    "ncmap.show()"
   ]
  },
  {
   "cell_type": "code",
   "execution_count": null,
   "metadata": {},
   "outputs": [],
   "source": []
  },
  {
   "cell_type": "markdown",
   "metadata": {},
   "source": [
    "Tanto plotly como pandas cuentan con componentes que permiten añadir interactívidad a las visualizaciones, en este caso se muestra una opción de componente (dropdown).\n",
    "\n",
    "Dash genera una aplicación web en la que vivirá la visualización y sus distintos componentes. Al ser un entorno web, se estructura a traves de HTML como también se pueden incorporar elementos estilísticos asociados a CSS.\n",
    "\n",
    "La interactividad con componentes o entre gráficos se verán mas adelante\n",
    "\n",
    "Para instanciar la aplicación se genera un objeto de la clase Dash de la libreria dash"
   ]
  },
  {
   "cell_type": "code",
   "execution_count": null,
   "metadata": {},
   "outputs": [],
   "source": [
    "labels= []\n",
    "for i in new_cases_shp.index:\n",
    "    labels.append({'label': i, 'value':i})\n",
    "app2 = dash.Dash()\n",
    "app2.layout=html.Div([\n",
    "    \n",
    "    html.H1('NC Covid', style={'text-align': 'center'}),\n",
    "    \n",
    "    dcc.Dropdown(id= \"County\",\n",
    "                options= labels,\n",
    "                multi= True,\n",
    "                value= 'Alamance',\n",
    "                style= {'width': '40%'}),\n",
    "    \n",
    "    html.Div(id= 'output_container', children= []),\n",
    "    html.Br(),\n",
    "    \n",
    "    dcc.Graph(id= 'my_map', figure= ncmap)\n",
    "    \n",
    "    \n",
    "])\n",
    "\n",
    "#app2.run_server(debug=True, use_reloader=False)\n"
   ]
  },
  {
   "cell_type": "markdown",
   "metadata": {},
   "source": [
    "Muestra de visualización de series de tiempo y añadir botones de filtro "
   ]
  },
  {
   "cell_type": "code",
   "execution_count": null,
   "metadata": {},
   "outputs": [],
   "source": [
    "\n",
    "\n",
    "newcts = px.line(new_cases_t.reset_index(), x=\"Date\", y=new_cases_t.columns,\n",
    "              \n",
    "              title='Total cases over time')\n",
    "\n",
    "newcts.show()"
   ]
  },
  {
   "cell_type": "markdown",
   "metadata": {},
   "source": [
    "En la visualización offline, se pueden generar interacciones sencillas, en este caso se muestra un boton de filtro que se actualiza la visualización mediante un diccionario asociado a cada a valor según el cual se filtra"
   ]
  },
  {
   "cell_type": "code",
   "execution_count": null,
   "metadata": {},
   "outputs": [],
   "source": [
    "# # plotly\n",
    "newcts = go.Figure()\n",
    "\n",
    "# set up ONE trace\n",
    "newcts.add_trace(go.Scatter(x=new_cases_t.index,\n",
    "                         y=new_cases_t[new_cases_t.columns[0]],\n",
    "                         visible=True)\n",
    "                )\n",
    "\n",
    "updatemenu = []\n",
    "buttons = []\n",
    "\n",
    "# button with one option for each dataframe\n",
    "for col in new_cases_t.columns:\n",
    "    buttons.append(dict(method='restyle',\n",
    "                        label=col,\n",
    "                        visible=True,\n",
    "                        args=[{'y':[new_cases_t[col]],\n",
    "                               'x':[new_cases_t.index],\n",
    "                               'type':'scatter'}, [0]],\n",
    "                        )\n",
    "                  )\n",
    "\n",
    "# some adjustments to the updatemenus\n",
    "                 \n",
    "updatemenu = []\n",
    "your_menu = dict()\n",
    "updatemenu.append(your_menu)\n",
    "\n",
    "updatemenu[0]['buttons'] = buttons\n",
    "updatemenu[0]['direction'] = 'down'\n",
    "updatemenu[0]['showactive'] = True\n",
    "\n",
    "# add dropdown menus to the figure\n",
    "newcts.update_layout(showlegend=False, updatemenus=updatemenu)\n",
    "newcts.show()\n"
   ]
  },
  {
   "cell_type": "code",
   "execution_count": null,
   "metadata": {},
   "outputs": [],
   "source": [
    "new_cases"
   ]
  },
  {
   "cell_type": "markdown",
   "metadata": {},
   "source": [
    "Es relevante notar, que se presentan dos herramientas de visualiza, Graph objects y Plotly express que fue mostrada anteriormente, se recomienda ver las diferencias en la documentación"
   ]
  },
  {
   "cell_type": "code",
   "execution_count": null,
   "metadata": {},
   "outputs": [],
   "source": [
    "fig = go.Figure(go.Choroplethmapbox(geojson=counties, locations= new_cases.index,\n",
    "                                    z=new_cases['2020-09-18'],\n",
    "                                    colorscale=\"Viridis\", zmin=0, zmax=max(new_cases['2020-09-18']),\n",
    "                                    marker_opacity=0.5, marker_line_width=0))\n",
    "fig.update_layout(mapbox_style=\"carto-positron\",\n",
    "                  mapbox_zoom=5.75, mapbox_center = {\"lat\": 35.782169, \"lon\": -80.793457})\n",
    "fig.update_layout(margin={\"r\":0,\"t\":0,\"l\":0,\"b\":0})\n",
    "fig.show()"
   ]
  },
  {
   "cell_type": "markdown",
   "metadata": {},
   "source": [
    "Los objetos graficos se pueden pasar como un diccionario en el parámetro figure de la funcion graph de dash core components, esto permite un desarrollo intuitivo dentro del contexto de dash (dentro de DIVS html, como también se es textual con los elementos sobre los cuales se pueden hacer callbacks"
   ]
  },
  {
   "cell_type": "code",
   "execution_count": null,
   "metadata": {},
   "outputs": [],
   "source": [
    "#https://plotly.com/python/mapbox-layers/\n",
    "\n",
    "app = dash.Dash()\n",
    "app.layout=html.Div([dcc.Graph(id='Graph',\n",
    "                              figure= {\n",
    "                                  'data':[go.Choroplethmapbox(geojson=counties,\n",
    "                                                              locations= new_cases.reset_index()['County'],\n",
    "                                                              z=new_cases['2020-09-18'],\n",
    "                                                              colorscale=\"Viridis\", zmin=0, zmax=max(new_cases['2020-09-18']),\n",
    "                                                              marker_opacity=0.5, marker_line_width=0\n",
    "                                                              )],\n",
    "                                  'layout':go.Layout(mapbox_style='carto-darkmatter',\n",
    "                                                    mapbox_zoom=5.75,\n",
    "                                                    mapbox_center = {\"lat\": 35.782169, \"lon\": -80.793457},\n",
    "                                                    margin={\"r\":0,\"t\":0,\"l\":0,\"b\":0})\n",
    "                                                     \n",
    "                              })\n",
    "    \n",
    "])\n",
    "\n",
    "#app.run_server(debug=True, use_reloader=False)\n"
   ]
  },
  {
   "cell_type": "markdown",
   "metadata": {},
   "source": [
    "En Dash se puede de manera sencilla incorporar mas de una visualización en distintos bloques del código html generado"
   ]
  },
  {
   "cell_type": "code",
   "execution_count": null,
   "metadata": {},
   "outputs": [],
   "source": [
    "app = dash.Dash()\n",
    "app.layout=html.Div([html.Div([dcc.Graph(id='Map',\n",
    "                              figure= {\n",
    "                                  'data':[go.Choroplethmapbox(geojson=counties,\n",
    "                                                              locations= new_cases.reset_index()['County'],\n",
    "                                                              z=new_cases['2020-09-18'],\n",
    "                                                              colorscale=\"Viridis\", zmin=0, zmax=max(new_cases['2020-09-18']),\n",
    "                                                              marker_opacity=0.5, marker_line_width=0\n",
    "                                                              )],\n",
    "                                  'layout':go.Layout(mapbox_style='carto-darkmatter',\n",
    "                                                    mapbox_zoom=5.75,\n",
    "                                                    mapbox_center = {\"lat\": 35.782169, \"lon\": -80.793457},\n",
    "                                                    margin={\"r\":0,\"t\":0,\"l\":0,\"b\":0})\n",
    "                              })], style={'width': '50%', 'display': 'inline-block'}\n",
    "                               \n",
    "                              ),\n",
    "                     \n",
    "                     html.Div([dcc.Graph(id= 'TS',\n",
    "                               figure= {\n",
    "                                   'data': [go.Scatter(x=new_cases_t.index,\n",
    "                                                       y=new_cases_t[new_cases_t.columns[0]],\n",
    "                                                       visible=True)]}\n",
    "                                        )])\n",
    "                    ])\n",
    "#app.run_server()"
   ]
  },
  {
   "cell_type": "markdown",
   "metadata": {},
   "source": [
    "Para generar interacción con el usuario dentro de la aplicación, se utilizarán los callbacks que se declaran a traves del decorador app.callback, este toma como parametro output el elemento que será cambiado y como input el elemento con el cual interactua"
   ]
  },
  {
   "cell_type": "code",
   "execution_count": null,
   "metadata": {},
   "outputs": [],
   "source": [
    "app = dash.Dash()\n",
    "app.layout=html.Div([html.Div([dcc.Graph(id='Map',\n",
    "                              figure= {\n",
    "                                  'data':[go.Choroplethmapbox(geojson=counties,\n",
    "                                                              locations= new_cases.reset_index()['County'],\n",
    "                                                              z=new_cases['2020-09-18'],\n",
    "                                                              colorscale=\"Viridis\", \n",
    "                                                              zmin=0, \n",
    "                                                              zmax=max(new_cases['2020-09-18']),\n",
    "                                                              marker_opacity=0.5,\n",
    "                                                              marker_line_width=0\n",
    "                                                              )],\n",
    "                                  'layout':go.Layout(mapbox_style='carto-darkmatter',\n",
    "                                                    mapbox_zoom=5.75,\n",
    "                                                    mapbox_center = {\"lat\": 35.782169, \"lon\": -80.793457},\n",
    "                                                     hovermode= 'closest',\n",
    "                                                    margin={\"r\":0,\"t\":0,\"l\":0,\"b\":0})\n",
    "                              })], style={'width': '75%', 'display': 'inline-block'}\n",
    "                               \n",
    "                              ),\n",
    "                     \n",
    "                     html.Div([dcc.Graph(id= 'TS',\n",
    "                               figure= {\n",
    "                                   'data': [go.Scatter(x=new_cases_t.index,\n",
    "                                                       y=new_cases_t[new_cases_t.columns[0]],\n",
    "                                                       visible=True)]}\n",
    "                                        )]),\n",
    "                     html.Div(html.Pre(id= 'hover-data', style={'paddingTop': 35}))\n",
    "                    ])\n",
    "@app.callback(Output('hover-data', 'children'),\n",
    "             [Input('Map', 'clickData')])\n",
    "def callback_json(hoverData):\n",
    "    return json.dumps(hoverData, indent=2)\n",
    "\n",
    "#app.run_server()"
   ]
  },
  {
   "cell_type": "markdown",
   "metadata": {},
   "source": [
    "Evidentemente, un aplicación puede contener varios callbacks y permite generar la interacción entre distintos gráficos"
   ]
  },
  {
   "cell_type": "code",
   "execution_count": null,
   "metadata": {},
   "outputs": [],
   "source": [
    "app = dash.Dash()\n",
    "app.layout=html.Div([html.Div([dcc.Graph(id='Map',\n",
    "                              figure= {\n",
    "                                  'data':[go.Choroplethmapbox(geojson=counties,\n",
    "                                                              locations= new_cases.reset_index()['County'],\n",
    "                                                              z=new_cases['2020-09-18'],\n",
    "                                                              colorscale=\"Viridis\", \n",
    "                                                              zmin=0, \n",
    "                                                              zmax=max(new_cases['2020-09-18']),\n",
    "                                                              marker_opacity=0.5,\n",
    "                                                              marker_line_width=0\n",
    "                                                              )],\n",
    "                                  'layout':go.Layout(mapbox_style='carto-darkmatter',\n",
    "                                                    mapbox_zoom=5.75,\n",
    "                                                    mapbox_center = {\"lat\": 35.782169, \"lon\": -80.793457},\n",
    "                                                     hovermode= 'closest',\n",
    "                                                    margin={\"r\":0,\"t\":0,\"l\":0,\"b\":0})\n",
    "                              })], style={'width': '75%', 'display': 'inline-block'}\n",
    "                               \n",
    "                              ),\n",
    "                     \n",
    "                     html.Div([dcc.Graph(id= 'TS',\n",
    "                               figure= {\n",
    "                                   'data': [go.Scatter(x=new_cases_t.index,\n",
    "                                                       y=new_cases_t[new_cases_t.columns[0]],\n",
    "                                                       visible=True)]}\n",
    "                                        )]),\n",
    "                     html.Div(html.Pre(id= 'hover-data', style={'paddingTop': 35}))\n",
    "                    ])\n",
    "@app.callback(Output('hover-data', 'children'),\n",
    "             [Input('Map', 'clickData')])\n",
    "def callback_json(hoverData):\n",
    "    return json.dumps(hoverData, indent=2)\n",
    "\n",
    "@app.callback(Output('TS', 'figure'),\n",
    "             [Input('Map', 'clickData')])\n",
    "def callback_map(hoverData):\n",
    "    location= hoverData['points'][0]['location']\n",
    "    figure= {'data': [go.Scatter(x=new_cases_t.index,\n",
    "                                 y=new_cases_t[location],\n",
    "                                 visible=True)],\n",
    "            'layout': go.Layout(title= '{0} new cases'.format(location))}\n",
    "    return figure\n",
    "    \n",
    "\n",
    "#app.run_server()"
   ]
  },
  {
   "cell_type": "markdown",
   "metadata": {},
   "source": [
    "La librería dash cuenta con una cantidad relevante de componentes html prediseñados que se pueden ver en la documentación"
   ]
  },
  {
   "cell_type": "code",
   "execution_count": null,
   "metadata": {},
   "outputs": [],
   "source": [
    "#https://dash.plotly.com/dash-core-components\n",
    "\n",
    "app = dash.Dash()\n",
    "app.layout=html.Div([html.Div([dcc.Graph(id='Map',\n",
    "                              figure= {\n",
    "                                  'data':[go.Choroplethmapbox(geojson=counties,\n",
    "                                                              locations= new_cases.reset_index()['County'],\n",
    "                                                              z=new_cases['2020-09-18'],\n",
    "                                                              colorscale=\"Viridis\", \n",
    "                                                              zmin=0, \n",
    "                                                              zmax=max(new_cases['2020-09-18']),\n",
    "                                                              marker_opacity=0.5,\n",
    "                                                              marker_line_width=0\n",
    "                                                              )],\n",
    "                                  'layout':go.Layout(mapbox_style='carto-darkmatter',\n",
    "                                                    mapbox_zoom=5.75,\n",
    "                                                    mapbox_center = {\"lat\": 35.782169, \"lon\": -80.793457},\n",
    "                                                     hovermode= 'closest',\n",
    "                                                    margin={\"r\":0,\"t\":0,\"l\":0,\"b\":0})\n",
    "                              })], style={'width': '75%', 'display': 'inline-block'}\n",
    "                               \n",
    "                              ),\n",
    "                     html.Div(dcc.RangeSlider(id= 'slider',\n",
    "                                              updatemode = 'mouseup',\n",
    "                                             min=0,\n",
    "                                             max=len(new_cases_t.index.unique()),\n",
    "                                             value=[0,\n",
    "                                                    len(new_cases_t.index.unique())-1],\n",
    "                                             )\n",
    "                              \n",
    "                              ),\n",
    "                     html.Div(id='output-container-range-slider'),\n",
    "                     \n",
    "                     html.Div([dcc.Graph(id= 'TS',\n",
    "                               figure= {\n",
    "                                   'data': [go.Scatter(x=new_cases_t.index,\n",
    "                                                       y=new_cases_t[new_cases_t.columns[0]],\n",
    "                                                       visible=True)]}\n",
    "                                        )])\n",
    "                    ])\n",
    "\n",
    "\n",
    "@app.callback(Output('TS', 'figure'),\n",
    "             [Input('Map', 'clickData')])\n",
    "def callback_map(hoverData):\n",
    "    location= hoverData['points'][0]['location']\n",
    "    figure= {'data': [go.Scatter(x=new_cases_t.index,\n",
    "                                 y=new_cases_t[location],\n",
    "                                 visible=True)],\n",
    "            'layout': go.Layout(title= '{0} new cases'.format(location))}\n",
    "    return figure\n",
    "    \n",
    "@app.callback(\n",
    "    dash.dependencies.Output('output-container-range-slider', 'children'),\n",
    "    [dash.dependencies.Input('slider', 'value')])\n",
    "def update_output(value):\n",
    "    dates=dict(zip(range(len(new_cases_t.index.unique())),\n",
    "                   [pd.Timestamp(i).date().strftime('%d/%m') for i in new_cases_t.index]))\n",
    "    \n",
    "    return 'Dates selected from\"{0}\" to \"{1}\"'.format(dates[value[0]], dates[value[1]])\n",
    "\n",
    "\n",
    "#app.run_server()"
   ]
  },
  {
   "cell_type": "markdown",
   "metadata": {},
   "source": [
    "Para interactuar con los componentes, basta con generar un callback y una función que actualize las visualizaciones con los datos que entrega el componente"
   ]
  },
  {
   "cell_type": "code",
   "execution_count": null,
   "metadata": {},
   "outputs": [],
   "source": [
    "app = dash.Dash()\n",
    "app.layout=html.Div([html.Div([dcc.Graph(id='Map',\n",
    "                              figure= {\n",
    "                                  'data':[go.Choroplethmapbox(geojson=counties,\n",
    "                                                              locations= new_cases.reset_index()['County'],\n",
    "                                                              z=new_cases['2020-09-18'],\n",
    "                                                              colorscale=\"Viridis\", \n",
    "                                                              zmin=0, \n",
    "                                                              zmax=max(new_cases['2020-09-18']),\n",
    "                                                              marker_opacity=0.5,\n",
    "                                                              marker_line_width=0\n",
    "                                                              )],\n",
    "                                  'layout':go.Layout(mapbox_style='carto-darkmatter',\n",
    "                                                    mapbox_zoom=5.75,\n",
    "                                                    mapbox_center = {\"lat\": 35.782169, \"lon\": -80.793457},\n",
    "                                                     hovermode= 'closest',\n",
    "                                                    margin={\"r\":0,\"t\":0,\"l\":0,\"b\":0})\n",
    "                              })], style={'width': '75%', 'display': 'inline-block'}\n",
    "                               \n",
    "                              ),\n",
    "                     html.Div(dcc.RangeSlider(id= 'slider',\n",
    "                                              updatemode = 'mouseup',\n",
    "                                             min=0,\n",
    "                                             max=len(new_cases_t.index.unique()),\n",
    "                                             value=[0,\n",
    "                                                    len(new_cases_t.index.unique())-1],\n",
    "                                             )\n",
    "                              \n",
    "                              ),\n",
    "                     html.Div(id='output-container-range-slider'),\n",
    "                     \n",
    "                     html.Div([dcc.Graph(id= 'TS',\n",
    "                               figure= {\n",
    "                                   'data': [go.Scatter(x=new_cases_t.index,\n",
    "                                                       y=new_cases_t[new_cases_t.columns[0]],\n",
    "                                                       visible=True)]}\n",
    "                                        )])\n",
    "                    ])\n",
    "\n",
    "\n",
    "@app.callback(Output('TS', 'figure'),\n",
    "             [Input('Map', 'clickData'),\n",
    "             Input('slider', 'value')])\n",
    "def callback_map(hoverData, value):\n",
    "    location= hoverData['points'][0]['location']\n",
    "    dates=dict(zip(range(len(new_cases_t.index.unique())),\n",
    "               [pd.Timestamp(i).date() for i in new_cases_t.index]))\n",
    "    from_date= dates[value[0]]\n",
    "    to_date= dates[value[1]]\n",
    "    filtered_data=new_cases_t[(new_cases_t.index>from_date) & (new_cases_t.index<to_date)]\n",
    "    figure= {'data': [go.Scatter(x=filtered_data.index,\n",
    "                                 y=filtered_data[location],\n",
    "                                 visible=True)],\n",
    "            'layout': go.Layout(title= '{0} new cases from {1} to {2}'.format(location, dates[value[0]],dates[value[1]]))}\n",
    "    return figure\n",
    "    \n",
    "@app.callback(\n",
    "    dash.dependencies.Output('output-container-range-slider', 'children'),\n",
    "    [dash.dependencies.Input('slider', 'value')])\n",
    "def update_output(value):\n",
    "    dates=dict(zip(range(len(new_cases_t.index.unique())),\n",
    "                   [pd.Timestamp(i).date().strftime('%d/%m') for i in new_cases_t.index]))\n",
    "    \n",
    "    return 'Dates selected from\"{0}\" to \"{1}\"'.format(dates[value[0]], dates[value[1]])\n",
    "\n",
    "#app.run_server()"
   ]
  },
  {
   "cell_type": "markdown",
   "metadata": {},
   "source": [
    "Es posible de esta manera, ligar un componente a mas de una visualización como también las visualizaciones entre ellas pudiendo generar visualizaciones altamente complejas. En este caso, ya se puede filtrar las series de tiempo con el mapa como también cambiar el mapa según los valores de tiempo del componente"
   ]
  },
  {
   "cell_type": "code",
   "execution_count": null,
   "metadata": {},
   "outputs": [],
   "source": [
    "app = dash.Dash()\n",
    "app.layout=html.Div([html.Div([dcc.Graph(id='Map',\n",
    "                              figure= {\n",
    "                                  'data':[go.Choroplethmapbox(geojson=counties,\n",
    "                                                              locations= new_cases.reset_index()['County'],\n",
    "                                                              z=new_cases_t.sum(),\n",
    "                                                              colorscale=\"Viridis\", \n",
    "                                                              zmin=0, \n",
    "                                                              zmax=max(new_cases_t.sum()),\n",
    "                                                              marker_opacity=0.5,\n",
    "                                                              marker_line_width=0\n",
    "                                                              )],\n",
    "                                  'layout':go.Layout(mapbox_style='carto-darkmatter',\n",
    "                                                    mapbox_zoom=5.75,\n",
    "                                                    mapbox_center = {\"lat\": 35.782169, \"lon\": -80.793457},\n",
    "                                                    hovermode= 'closest',\n",
    "                                                    margin={\"r\":0,\"t\":0,\"l\":0,\"b\":0})\n",
    "                              })]\n",
    "                               \n",
    "                              ),\n",
    "                     html.Div(dcc.RangeSlider(id= 'slider',\n",
    "                                              updatemode = 'mouseup',\n",
    "                                             min=0,\n",
    "                                             max=len(new_cases_t.index.unique()),\n",
    "                                             value=[0,\n",
    "                                                    len(new_cases_t.index.unique())-1],\n",
    "                                             )\n",
    "                              \n",
    "                              ),\n",
    "                     html.Div(id='output-container-range-slider'),\n",
    "                     \n",
    "                     html.Div([dcc.Graph(id= 'TS',\n",
    "                               figure= {\n",
    "                                   'data': [go.Scatter(x=new_cases_t.index,\n",
    "                                                       y=new_cases_t[new_cases_t.columns[0]],\n",
    "                                                       visible=True)]}\n",
    "                                        )])\n",
    "                    ])\n",
    "\n",
    "\n",
    "@app.callback(Output('TS', 'figure'),\n",
    "             [Input('Map', 'clickData'),\n",
    "             Input('slider', 'value')])\n",
    "def callback_map(hoverData, value):\n",
    "    location= hoverData['points'][0]['location']\n",
    "    dates=dict(zip(range(len(new_cases_t.index.unique())),\n",
    "               [pd.Timestamp(i).date() for i in new_cases_t.index]))\n",
    "    from_date= dates[value[0]]\n",
    "    to_date= dates[value[1]]\n",
    "    filtered_data=new_cases_t[(new_cases_t.index>from_date) & (new_cases_t.index<to_date)]\n",
    "    figure= {'data': [go.Scatter(x=filtered_data.index,\n",
    "                                 y=filtered_data[location],\n",
    "                                 visible=True)],\n",
    "            'layout': go.Layout(title= '{0} new cases from {1} to {2}'.format(location, dates[value[0]],dates[value[1]]))}\n",
    "    return figure\n",
    "\n",
    "@app.callback(\n",
    "    Output('Map', 'figure'),\n",
    "    [Input('slider', 'value')])\n",
    "def callback_map_color(value):\n",
    "    dates=dict(zip(range(len(new_cases_t.index.unique())),\n",
    "               [pd.Timestamp(i).date() for i in new_cases_t.index]))\n",
    "    from_date= dates[value[0]]\n",
    "    to_date= dates[value[1]]\n",
    "    filtered_data=new_cases_t[(new_cases_t.index>from_date) & (new_cases_t.index<to_date)] \n",
    "    figure= {'data': [go.Choroplethmapbox(geojson=counties,\n",
    "                                          locations= new_cases.reset_index()['County'],\n",
    "                                          z=filtered_data.sum(),\n",
    "                                          colorscale=\"Viridis\", \n",
    "                                          zmin=min(filtered_data.sum()), \n",
    "                                          zmax=max(filtered_data.sum()),\n",
    "                                          marker_opacity=0.5,\n",
    "                                          marker_line_width=0\n",
    "                                          )],\n",
    "             \n",
    "             'layout': go.Layout(mapbox_style='carto-darkmatter',\n",
    "                                 mapbox_zoom=5.75,\n",
    "                                 mapbox_center = {\"lat\": 35.782169, \"lon\": -80.793457},\n",
    "                                 hovermode= 'closest',\n",
    "                                 margin={\"r\":0,\"t\":0,\"l\":0,\"b\":0},\n",
    "                                 )}\n",
    "             \n",
    "    return figure \n",
    "\n",
    "@app.callback(\n",
    "    dash.dependencies.Output('output-container-range-slider', 'children'),\n",
    "    [dash.dependencies.Input('slider', 'value')])\n",
    "def update_output(value):\n",
    "    dates=dict(zip(range(len(new_cases_t.index.unique())),\n",
    "                   [pd.Timestamp(i).date().strftime('%d/%m') for i in new_cases_t.index]))\n",
    "    \n",
    "    return 'Dates selected from\"{0}\" to \"{1}\"'.format(dates[value[0]], dates[value[1]])\n",
    "\n",
    "app.run_server()"
   ]
  }
 ],
 "metadata": {
  "kernelspec": {
   "display_name": "Python 3",
   "language": "python",
   "name": "python3"
  },
  "language_info": {
   "codemirror_mode": {
    "name": "ipython",
    "version": 3
   },
   "file_extension": ".py",
   "mimetype": "text/x-python",
   "name": "python",
   "nbconvert_exporter": "python",
   "pygments_lexer": "ipython3",
   "version": "3.7.6"
  }
 },
 "nbformat": 4,
 "nbformat_minor": 4
}
