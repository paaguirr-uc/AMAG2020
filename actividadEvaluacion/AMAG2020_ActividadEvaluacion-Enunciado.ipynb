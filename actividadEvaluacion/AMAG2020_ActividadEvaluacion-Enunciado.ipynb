{
 "cells": [
  {
   "cell_type": "markdown",
   "metadata": {},
   "source": [
    "# AMAG2020 - Análisis de Datos Espaciales.\n",
    "\n",
    "# Actividad de Evaluación.\n",
    "\n",
    "## Instrucciones generales.\n",
    "\n",
    "- Fecha de entrega: 26 de octubre 2020, 23:59.\n",
    "\n",
    "- Formato de entrega: carpeta comprimida (.zip) incluyendo Jupyter Notebook con el desarrollo (puede utilizar este mismo notebook), y las capas o archivos vectoriales que haya generado como parte de su análisis. El objetivo es que el Notebook pueda correr completamente dentro de la carpeta entregada. En el Notebook, incluya texto explicando los pasos u operaciones desarrolladas, no sólo el código.\n",
    "\n",
    "- El trabajo se realizará en grupos definidos aleatoriamente al inicio de la actividad. Se debe entregar sólo un Notebook por grupo.\n",
    "\n",
    "- Vía de entrega: correo electrónico con archivo adjunto o link para descarga (enviar a la profesora paaguirr@ing.uc.cl cc. al ayudante del curso, figutier@uc.cl).\n",
    "\n",
    "- La actividad debe ser desarrollada en lenguaje de programación Python. \n",
    "\n",
    "\n",
    "## 1. Introducción.\n",
    "\n",
    "Como en toda gran ciudad capital, uno de los principales problemas de Santiago es la alta congestión vehicular, y el riesgo de choques y accidentes que ésta conlleva. En este ejercicio, analizaremos la distribución de choques en la ciudad de Santiago, con el objetivo de visualizar e identificar estadísticamente cuáles son las zonas y calles con mayor incidencia de choques.\n",
    "\n",
    "En Chile, la Comisión Nacional de Seguridad del Tránsito (CONASET) publica anualmente bases de datos geocodificadas de los siniestros de tránsito registrados en las comunas del área del Gran Santiago en la Región Metropolitana de Santiago. Estas capas contienen detalles de fecha, hora, tipo de accidente, causa basal del accidente, dirección donde ocurrió el accidente, cantidad de personas fallecidas y lesionadas según gravedad, entre otros. \n",
    "Dependiendo de si un accidente causa algún fallecimiento, lesiones graves, menos graves o leves, podemos definir un índice de severidad de cada evento de acuerdo a la siguiente tabla:\n",
    "\n",
    "|Tipo de víctimas | Índice de severidad|\n",
    "|---|---|\n",
    "|Fallecidos | 5|\n",
    "| Graves | 4 |\n",
    "| Menos graves | 3 |\n",
    "| Leves | 2 |\n",
    "| Sin lesionados | 1|\n",
    "**Tabla 1**\n",
    "\n",
    "Esta definición aplica a cada siniestro en particular. \n",
    "\n",
    "## 2. Datos del problema.\n",
    "\n",
    "Para el análisis de la distribución de accidentes del tránsito y el índice de severidad de accidentes por zona y calle, se utilizarán los conjuntos de datos descritos a continuación. Todos ellos pueden ser descargados desde el siguiente link (~100 Mb):\n",
    "\n",
    "https://drive.google.com/file/d/1LqBd2qqHp9n_hhWBXcwSTDMbw5BqzWen/view?usp=sharing\n",
    "\n",
    "\n",
    "### 2.1. Área urbana general de Santiago:\n",
    "\n",
    "- `BCN/areas_urbanas.shp`\n",
    "\n",
    "La Biblioteca del Congreso Nacional (BCN) publica en su Mapoteca una capa con las áreas urbanas de *todo Chile*. A partir de esta capa, puede obtener el límite del área urbana general del Gran Santiago. \n",
    "\n",
    "### 2.2 Siniestros de tránsito, Gran Santiago, RM, Chile, 2018: \n",
    "\n",
    "- `CONASET/siniestrosTransito_Stgo_2018.shp`\n",
    "\n",
    "Esta capa contiene la geocodificación de los siniestros de tránsito registrados en las comunas del área del Gran Santiago en la Región Metropolitana de Santiago durante el año 2018. Contiene detalles de fecha, hora, tipo de accidente, causa basal del accidente, dirección donde ocurrió el accidente, cantidad de personas fallecidas y lesionadas según gravedad, entre otros. \n",
    "Esta base de datos contiene algunos accidentes que no están georreferenciados, los cuales pueden ser eliminados del análisis.\n",
    "\n",
    "### 2.3. Calles de Santiago: \n",
    "\n",
    "- `OSM/car_roads_Stgo_OSM.shp`\n",
    "\n",
    "OpenStreetMap(OSM) es un proyecto colaborativo para crear un mapa libre y editable del mundo, construido por una comunidad de cartógrafos que contribuyen y mantienen data sobre calles, cafés, estaciones de trenes, y mucho más. Más que el mapa, el principal producto del proyecto es la data generada.\n",
    "\n",
    "El sitio GeoFabrik pubblica extractos de data de OSM que se actualizan constantemente. Este servicio de descarga de datos abiertos es ofrecido en forma gratuita por Geofabrik GmbH. La capa descargada corresponde a la información de calles de todo Chile, por lo que ud. deberá extraer sólo aquellas calles ubicadas en el Gran Santiago (polígono definido en la capa 1). Además, incluye vías peatonales, ciclovías, calles de servicio, y otras vías menores. Dado que analizaremos accidentes vehiculares, sólo nos interesará la ubicación de las vías clasificadas como: `tertiary, tertiary_link, secondary, secondary_link, primary, primary_link, motorway, motorway_link`. Las demás clasificaciones pueden ser descartadas para efectos de este análisis.\n",
    "\n",
    "Los datos entregados corresponden a una selección de los datos de OSM, que incluye sólo las vías vehiculares ubicadas dentro de la zona urbana de Santiago.\n",
    "\n",
    "### 2.4. Microzonificación urbana de Santiago:\n",
    "\n",
    "- `BCN/Zonificacion_EOD2012_Stgo.shp`\n",
    "\n",
    "Para analizar la distribución de accidentes en el Gran Santiago, necesitamos dividir la ciudad en zonas o polígonos más pequeños. En este caso, usaremos las microzonas urbanas definidas en la última Encuesta Origen-Destino (EOD), publicada por la Secretaría de Transportes (SECTRA). Esta zonificación considera zonas fuera de área urbana general de Santiago definida en la capa 1, por lo que será necesario seleccionar sólo los polígonos contenidos dentro de dicho límite urbano. \n",
    "\n",
    "\n",
    "## 3. Desarrollo.\n",
    "\n",
    "A partir de los datos entregados, analice y desarrolle los siguientes puntos:\n"
   ]
  },
  {
   "cell_type": "markdown",
   "metadata": {},
   "source": [
    "#### 3.1 Determine el número total de siniestros de cada nivel de severidad ocurridos el años 2018 en la zona urbana de Santiago.\n",
    "\n",
    "Para responder esta pregunta, debe considerar los datos de la capa`siniestrosTransito_Stgo_2018.shp`, donde se indica la cantidad de Fallecidos, Graves, Menos Graves y Leves de cada siniestro. Use las definiciones de índice de severidad presentadas en la Tabla 1 para clasificar cada siniestro (puede serle últil el método `apply`).\n"
   ]
  },
  {
   "cell_type": "markdown",
   "metadata": {},
   "source": [
    "#### 3.2 Genere un mapa multicapa donde se muestre: el área urbana de Santiago, la ubicación de siniestros con color según su nivel de severidad, y las principales calles de Santiago.\n",
    "\n",
    "Las calles de Santiago están contenidas en la capa `car_roads_Stgo_OSM.shp`. Para efectos del mapa solicitado, sólo son de interés aquellas calles clasificadas en OSM como `primary` o `motorway`.\n",
    "\n",
    "El diseño y configuración de cada mapa será definido por cada grupo, pero deben incluirse como elementos básicos:\n",
    "- Geometrías de la zona urbana de y calles principales de Santiago.\n",
    "- Ubicación y severidad de los siniestros ocurridos en la zona urbana de Santiago.\n",
    "- Leyenda o escala de colores del mapa.\n",
    "- Título del mapa."
   ]
  },
  {
   "cell_type": "markdown",
   "metadata": {},
   "source": [
    "#### 3.3 Análisis de Patrones de Puntos.\n",
    "\n",
    "A partir de los datos de CONASET, analizaremos el patrón de ocurrencia de siniestros del tránsito **graves** en Santiago: ¿se distribuyen uniformemente en la ciudad, o existen clusters o zonas de mayor acumulación?\n",
    "\n",
    "- Seleccione los puntos correspondientes a siniestros con $I_{sev}=4$.\n",
    "- Genere una visualización del patrón de siniestros agregado en una grilla de polígonos regulares o irregulares, o una superficie de densidad. ¿Se identifica preliminarmente alguna estructura de clustering?\n",
    "- Evalúe estadísticamente si el patrón de puntos sigue una distribución aleatoria, o si es posible identificar un patrón de aglomeración *significativo*. Para esto, puede utilizar cualquiera de las métricas de distancia o densidad vistas en clases.\n"
   ]
  },
  {
   "cell_type": "markdown",
   "metadata": {},
   "source": [
    "#### 3.4 Calles más peligrosas de Santiago.\n",
    "\n",
    "¿Cuáles calles de Santiago son las más peligrosas en términos de ocurrencia de siniestros graves? Para responder esta pregunta, podemos utilizar los resultados de la pregunta anterior, y la ubicación de las calles principales.\n",
    "Podemos considerar por ejemplo que un cluster de siniestros es atribuido a una determinada calle si se ubica a una distancia máxima de 20 m de ella. Por lo tanto, se pide identificar qué calles de Santiago están ubicadas a una distancia de 20 m  o menos de un clusters de siniestros, si es que estos existen. \n",
    "\n",
    "- Funciones útiles: gpd.buffer, gpd.sjoin, pd.groupby"
   ]
  },
  {
   "cell_type": "markdown",
   "metadata": {},
   "source": [
    "#### 3.5 Visualización de zonas con mayor incidencia de siniestros de tránsito.\n",
    "\n",
    "Otra forma de analizar las áreas más peligrosas de Santiago en términos de ocurrencia de choques, es en base a las microzonas urbanas definidas en la Encuesta Origen Destino.\n",
    "\n",
    "Como análisis exploratorio, genere un mapa tipo coropleta de las microzonas, usando como atributo el número de siniestros graves ocurridos en cada una de ellas. Considerar las indicaciones de estilo de mapas dadas en el punto 3.2.\n",
    "\n",
    "- Funciones útiles: gpd.sjoin, gpd.groupby, gpd.merge, gpd.plot"
   ]
  },
  {
   "cell_type": "markdown",
   "metadata": {},
   "source": [
    "#### 3.6  BONUS: En base a los resultados del punto 3.5, genere un gráfico de Moran utilizando una matriz de contiguidad de Queen, y determine el nivel de autocorrelación global de la ocurrencia de choques graves en Santiago. ¿Las zonas con alta incidencia de choques tienend a agruparse cerca de otras zonas con alta incidencia de choques graves, o la distribución es más bien uniforme?\n",
    "\n"
   ]
  }
 ],
 "metadata": {
  "kernelspec": {
   "display_name": "Python 3",
   "language": "python",
   "name": "python3"
  },
  "language_info": {
   "codemirror_mode": {
    "name": "ipython",
    "version": 3
   },
   "file_extension": ".py",
   "mimetype": "text/x-python",
   "name": "python",
   "nbconvert_exporter": "python",
   "pygments_lexer": "ipython3",
   "version": "3.6.7"
  }
 },
 "nbformat": 4,
 "nbformat_minor": 2
}
